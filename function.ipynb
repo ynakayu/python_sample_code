{
  "nbformat": 4,
  "nbformat_minor": 0,
  "metadata": {
    "colab": {
      "name": "function.ipynb",
      "provenance": [],
      "collapsed_sections": [],
      "authorship_tag": "ABX9TyP93CpMb07rMr0hvwc/Gt5N",
      "include_colab_link": true
    },
    "kernelspec": {
      "name": "python3",
      "display_name": "Python 3"
    },
    "language_info": {
      "name": "python"
    }
  },
  "cells": [
    {
      "cell_type": "markdown",
      "metadata": {
        "id": "view-in-github",
        "colab_type": "text"
      },
      "source": [
        "<a href=\"https://colab.research.google.com/github/ynakayu/python_sample_code/blob/main/function.ipynb\" target=\"_parent\"><img src=\"https://colab.research.google.com/assets/colab-badge.svg\" alt=\"Open In Colab\"/></a>"
      ]
    },
    {
      "cell_type": "code",
      "execution_count": null,
      "metadata": {
        "colab": {
          "base_uri": "https://localhost:8080/"
        },
        "id": "GEyH-WH8KRiT",
        "outputId": "9f8115a9-10e2-44d5-9af2-b1529bb66872"
      },
      "outputs": [
        {
          "output_type": "stream",
          "name": "stdout",
          "text": [
            "Hello, I'm Liam.\n",
            "Hello, I'm Liam.\n",
            "Hello, I'm Liam.\n"
          ]
        }
      ],
      "source": [
        "# 関数\n",
        "# 例題）あいさつ機能\n",
        "# Hello, I'm Liam!\n",
        "def hello():\n",
        "    print(\"Hello, I'm Liam.\")\n",
        "\n",
        "hello()\n",
        "hello()\n",
        "hello()"
      ]
    },
    {
      "cell_type": "code",
      "source": [
        "# 例題) Hello, I'm 〇〇.と出力する\n",
        "def hello(name):\n",
        "    print(f\"Hello, I'm {name}.\")\n",
        "\n",
        "# print(name)\n",
        "\n",
        "hello('Liam')\n",
        "hello('Olivia')\n",
        "hello('Emma')"
      ],
      "metadata": {
        "colab": {
          "base_uri": "https://localhost:8080/"
        },
        "id": "ktLUvLaTMzGi",
        "outputId": "8d0f66e2-7654-4d81-fad0-c2fee58b7eba"
      },
      "execution_count": null,
      "outputs": [
        {
          "output_type": "stream",
          "name": "stdout",
          "text": [
            "Hello, I'm Liam.\n",
            "Hello, I'm Olivia.\n",
            "Hello, I'm Emma.\n"
          ]
        }
      ]
    },
    {
      "cell_type": "code",
      "source": [
        "# 例題）続き「出身地」と「好きな食べ物」も出力\n",
        "def hello(name, birthplace, favorite_food):\n",
        "    print(f\"Hello, I'm {name}.\")\n",
        "    print(f\"I'm from {birthplace}.\")\n",
        "    print(f\"My favorite food is {favorite_food}.\\n\")\n",
        "\n",
        "\n",
        "hello('Liam', 'Tokyo', 'Sushi')\n",
        "hello('Olivia', 'Osaka', 'Takoyaki')\n",
        "hello('Emma', 'Kyoto', 'Tempura')"
      ],
      "metadata": {
        "colab": {
          "base_uri": "https://localhost:8080/"
        },
        "id": "yC-QwtssPA7-",
        "outputId": "623f060a-2af4-4374-fec9-3569c170f784"
      },
      "execution_count": null,
      "outputs": [
        {
          "output_type": "stream",
          "name": "stdout",
          "text": [
            "Hello, I'm Liam.\n",
            "I'm from Tokyo.\n",
            "My favorite food is Sushi.\n",
            "\n",
            "Hello, I'm Olivia.\n",
            "I'm from Osaka.\n",
            "My favorite food is Takoyaki.\n",
            "\n",
            "Hello, I'm Emma.\n",
            "I'm from Kyoto.\n",
            "My favorite food is Tempura.\n",
            "\n"
          ]
        }
      ]
    },
    {
      "cell_type": "code",
      "source": [
        "# 戻り値\n",
        "# 例題）商品の本体価格を渡すと、\n",
        "# 消費税込みの価格を返す関数の作成\n",
        "# 消費税率：10%\n",
        "import math\n",
        "def include_tax(base_price):\n",
        "    # price = math.floor(base_price * 1.1)\n",
        "    # return price\n",
        "    return math.floor(base_price * 1.1)\n",
        "\n",
        "print(include_tax(100)) # 丸め誤差\n"
      ],
      "metadata": {
        "colab": {
          "base_uri": "https://localhost:8080/"
        },
        "id": "ToKy3K4bVbkT",
        "outputId": "c480cf3b-8f09-42fb-c809-52bc82c281fc"
      },
      "execution_count": null,
      "outputs": [
        {
          "output_type": "stream",
          "name": "stdout",
          "text": [
            "110\n"
          ]
        }
      ]
    },
    {
      "cell_type": "code",
      "source": [
        "# 演習:三角形の面積を求める関数を作成しよう\n",
        "def triangle_area(bottom, height):\n",
        "    return (bottom * height) / 2\n",
        "\n",
        "print(f'{triangle_area(10, 20)} cm^2')"
      ],
      "metadata": {
        "colab": {
          "base_uri": "https://localhost:8080/"
        },
        "id": "26_NDu2H_Eiy",
        "outputId": "53897078-0aad-43a3-ae98-0f279d598482"
      },
      "execution_count": 5,
      "outputs": [
        {
          "output_type": "stream",
          "name": "stdout",
          "text": [
            "100.0 cm^2\n"
          ]
        }
      ]
    }
  ]
}