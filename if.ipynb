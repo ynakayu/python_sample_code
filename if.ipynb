{
  "nbformat": 4,
  "nbformat_minor": 0,
  "metadata": {
    "colab": {
      "provenance": [],
      "collapsed_sections": [],
      "authorship_tag": "ABX9TyOcSBBuVnHOo8Pf2y5/IdEC",
      "include_colab_link": true
    },
    "kernelspec": {
      "name": "python3",
      "display_name": "Python 3"
    },
    "language_info": {
      "name": "python"
    }
  },
  "cells": [
    {
      "cell_type": "markdown",
      "metadata": {
        "id": "view-in-github",
        "colab_type": "text"
      },
      "source": [
        "<a href=\"https://colab.research.google.com/github/ynakayu/python_sample_code/blob/main/if.ipynb\" target=\"_parent\"><img src=\"https://colab.research.google.com/assets/colab-badge.svg\" alt=\"Open In Colab\"/></a>"
      ]
    },
    {
      "cell_type": "code",
      "execution_count": null,
      "metadata": {
        "colab": {
          "base_uri": "https://localhost:8080/"
        },
        "id": "nyV8t-S6zVRr",
        "outputId": "945e54e2-1d2b-4fa9-e5e5-2c025c1006bc"
      },
      "outputs": [
        {
          "output_type": "stream",
          "name": "stdout",
          "text": [
            "A\n",
            "Excellent job!\n"
          ]
        }
      ],
      "source": [
        "# if\n",
        "score = 80\n",
        "if score >= 80: # 比較演算子\n",
        "    print('A')\n",
        "    print('Excellent job!') # ブロック\n",
        "\n",
        "# 比較演算子の種類\n",
        "# == 同じ\n",
        "# != 異なる\n",
        "# < 小さい\n",
        "# <= 以下\n",
        "# > 大きい\n",
        "# >= 以上\n"
      ]
    },
    {
      "cell_type": "code",
      "source": [
        "# if else\n",
        "score = 79\n",
        "if score >= 80: # 比較演算子\n",
        "    print('A')\n",
        "    print('Excellent job!') # ブロック\n",
        "else:\n",
        "    print('X')"
      ],
      "metadata": {
        "colab": {
          "base_uri": "https://localhost:8080/"
        },
        "id": "C_cgrGGL33eR",
        "outputId": "b1aa0cfd-61c8-469c-8c22-220c715082bb"
      },
      "execution_count": null,
      "outputs": [
        {
          "output_type": "stream",
          "name": "stdout",
          "text": [
            "X\n"
          ]
        }
      ]
    },
    {
      "cell_type": "code",
      "source": [
        "# elif\n",
        "score = 59\n",
        "if score >= 80: \n",
        "    print('A')\n",
        "elif score >= 70:\n",
        "    print('B')\n",
        "elif score >= 60:\n",
        "    print('C')\n",
        "else:\n",
        "    print('X')"
      ],
      "metadata": {
        "colab": {
          "base_uri": "https://localhost:8080/"
        },
        "id": "m7CPj40fQkQK",
        "outputId": "599ed5ac-22fc-4671-8e03-8758265f83f5"
      },
      "execution_count": null,
      "outputs": [
        {
          "output_type": "stream",
          "name": "stdout",
          "text": [
            "X\n"
          ]
        }
      ]
    },
    {
      "cell_type": "code",
      "source": [
        "# 仕上げ\n",
        "score = int(input('Please enter your score.'))\n",
        "if score >= 80: \n",
        "    print('A')\n",
        "elif score >= 70:\n",
        "    print('B')\n",
        "elif score >= 60:\n",
        "    print('C')\n",
        "else:\n",
        "    print('X')"
      ],
      "metadata": {
        "colab": {
          "base_uri": "https://localhost:8080/"
        },
        "id": "H5I7dZRZR-lD",
        "outputId": "510e7a2f-7a82-4610-928e-ee339a82427a"
      },
      "execution_count": null,
      "outputs": [
        {
          "output_type": "stream",
          "name": "stdout",
          "text": [
            "Please enter your score.59\n",
            "X\n"
          ]
        }
      ]
    },
    {
      "cell_type": "code",
      "source": [
        "# 真偽値とは\n",
        "score = 70\n",
        "print(score >= 80)"
      ],
      "metadata": {
        "colab": {
          "base_uri": "https://localhost:8080/"
        },
        "id": "DZwIw6wFTIWu",
        "outputId": "bf6fba2b-3680-415b-c833-6636ea7bdc51"
      },
      "execution_count": null,
      "outputs": [
        {
          "output_type": "stream",
          "name": "stdout",
          "text": [
            "False\n"
          ]
        }
      ]
    },
    {
      "cell_type": "code",
      "source": [
        "# 比較演算子の種類\n",
        "# == 同じ\n",
        "print(10 == 10)\n",
        "# != 異なる\n",
        "print(10 != 10)\n",
        "# < 小さい\n",
        "print(10 < 10)\n",
        "# <= 以下\n",
        "print(10 <= 10)\n",
        "# > 大きい\n",
        "print(10 > 10)\n",
        "# >= 以上\n",
        "print(10 >= 10)\n",
        "\n",
        "print(10 == 11)"
      ],
      "metadata": {
        "colab": {
          "base_uri": "https://localhost:8080/"
        },
        "id": "-vuDuj5LUZs3",
        "outputId": "5d82a1f9-2e40-4b7c-9ee3-aefcd7730dcc"
      },
      "execution_count": null,
      "outputs": [
        {
          "output_type": "stream",
          "name": "stdout",
          "text": [
            "True\n",
            "False\n",
            "False\n",
            "True\n",
            "False\n",
            "True\n",
            "False\n"
          ]
        }
      ]
    },
    {
      "cell_type": "code",
      "source": [
        "# 論理演算子\n",
        "# and\n",
        "# math_score = 100\n",
        "# science_score = 90\n",
        "# if math_score == 100 and science_score == 100:\n",
        "#     print('OK')\n",
        "# else:\n",
        "#     print('NG')\n",
        "\n",
        "# or\n",
        "# math_score = 90\n",
        "# science_score = 90\n",
        "# if math_score == 100 or science_score == 100:\n",
        "#     print('OK')\n",
        "# else:\n",
        "#     print('NG')\n",
        "\n",
        "# not\n",
        "# 例)数値が偶数ではない場合は、その数値を出力\n",
        "num = 99\n",
        "if(not num % 2 == 0):\n",
        "    print(num)"
      ],
      "metadata": {
        "colab": {
          "base_uri": "https://localhost:8080/"
        },
        "id": "hxVnplCJW7pi",
        "outputId": "4e831925-fffe-4ed4-e916-ce873df73c0b"
      },
      "execution_count": null,
      "outputs": [
        {
          "output_type": "stream",
          "name": "stdout",
          "text": [
            "99\n"
          ]
        }
      ]
    },
    {
      "cell_type": "code",
      "source": [
        "# in演算子\n",
        "# 例題)テストの点数が入ったリストに100が含まれる場合はExcellent!と出力\n",
        "scores = [70, 99, 90, 60, 80]\n",
        "if 100 in scores:\n",
        "    print('Excellent!')"
      ],
      "metadata": {
        "id": "TufmofLUZcuO"
      },
      "execution_count": null,
      "outputs": []
    },
    {
      "cell_type": "code",
      "source": [
        "# 演習: if elif else を使って、体格を表示しよう\n",
        "weight = 40\n",
        "height = 1.7\n",
        "bmi = weight / (height * height)\n",
        "if bmi >= 25:\n",
        "    print('肥満')\n",
        "elif bmi >= 18.5:\n",
        "    print('普通')\n",
        "else:\n",
        "    print('痩せ')"
      ],
      "metadata": {
        "colab": {
          "base_uri": "https://localhost:8080/"
        },
        "id": "_Wm_rZfG5jTq",
        "outputId": "8ba55c92-0d97-4dd2-edf5-ea157ae3a624"
      },
      "execution_count": 3,
      "outputs": [
        {
          "output_type": "stream",
          "name": "stdout",
          "text": [
            "痩せ\n"
          ]
        }
      ]
    }
  ]
}