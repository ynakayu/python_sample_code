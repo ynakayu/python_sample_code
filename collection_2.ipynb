{
  "nbformat": 4,
  "nbformat_minor": 0,
  "metadata": {
    "colab": {
      "name": "collection-2.ipynb",
      "provenance": [],
      "authorship_tag": "ABX9TyPxRPEo0jt6kieO5jTRoOWe",
      "include_colab_link": true
    },
    "kernelspec": {
      "name": "python3",
      "display_name": "Python 3"
    },
    "language_info": {
      "name": "python"
    }
  },
  "cells": [
    {
      "cell_type": "markdown",
      "metadata": {
        "id": "view-in-github",
        "colab_type": "text"
      },
      "source": [
        "<a href=\"https://colab.research.google.com/github/ynakayu/python_sample_code/blob/main/collection_2.ipynb\" target=\"_parent\"><img src=\"https://colab.research.google.com/assets/colab-badge.svg\" alt=\"Open In Colab\"/></a>"
      ]
    },
    {
      "cell_type": "code",
      "execution_count": null,
      "metadata": {
        "colab": {
          "base_uri": "https://localhost:8080/"
        },
        "id": "N_qndhatXWZp",
        "outputId": "79c9161a-c225-4eac-d838-565d1f087e76"
      },
      "outputs": [
        {
          "output_type": "stream",
          "name": "stdout",
          "text": [
            "{'name': 'Liam', 'age': 20, 'birthplace': 'Tokyo'}\n",
            "Liam\n",
            "20\n",
            "Tokyo\n",
            "Sushi\n",
            "Tempura\n",
            "{'name': 'Liam', 'age': 20, 'birthplace': 'Tokyo'}\n"
          ]
        }
      ],
      "source": [
        "# ディクショナリ\n",
        "user = { 'name': 'Liam', 'age': 20, 'birthplace': 'Tokyo' }\n",
        "print(user)\n",
        "\n",
        "print(user['name'])\n",
        "print(user['age'])\n",
        "print(user['birthplace'])\n",
        "# print(user['favorite_food'])\n",
        "\n",
        "user['favorite_food'] = 'Sushi'\n",
        "print(user['favorite_food'])\n",
        "\n",
        "user['favorite_food'] = 'Tempura'\n",
        "print(user['favorite_food'])\n",
        "\n",
        "user.pop('favorite_food')\n",
        "print(user)"
      ]
    },
    {
      "cell_type": "code",
      "source": [
        "# タプル\n",
        "scores = (60, 100, 80)\n",
        "print(scores)\n",
        "# scores[0] = 10\n",
        "\n",
        "lang = ('Python', )\n",
        "print(lang[0])"
      ],
      "metadata": {
        "colab": {
          "base_uri": "https://localhost:8080/"
        },
        "id": "_bUBhoUqayjj",
        "outputId": "fb3ca291-1c03-4707-d797-2da1de91c5a4"
      },
      "execution_count": null,
      "outputs": [
        {
          "output_type": "stream",
          "name": "stdout",
          "text": [
            "(60, 100, 80)\n",
            "Python\n"
          ]
        }
      ]
    },
    {
      "cell_type": "code",
      "source": [
        "# 演習: ディクショナリを作成して各値を取り出して出力しよう\n",
        "user = {'name': 'Yuta Nakamura', 'gender': 'man', 'age': 21}\n",
        "print(f\"名前: {user['name']}\")\n",
        "print(f\"性別: {user['gender']}\")\n",
        "print(f\"年齢: {user['age']}\")"
      ],
      "metadata": {
        "id": "P-vQ5f4nFQMF",
        "outputId": "461113f6-57eb-445c-a11a-127da10a05e4",
        "colab": {
          "base_uri": "https://localhost:8080/"
        }
      },
      "execution_count": 1,
      "outputs": [
        {
          "output_type": "stream",
          "name": "stdout",
          "text": [
            "名前: Yuta Nakamura\n",
            "性別: man\n",
            "年齢: 21\n"
          ]
        }
      ]
    },
    {
      "cell_type": "code",
      "source": [],
      "metadata": {
        "id": "9G103zxyFPuH"
      },
      "execution_count": null,
      "outputs": []
    }
  ]
}