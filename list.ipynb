{
  "nbformat": 4,
  "nbformat_minor": 0,
  "metadata": {
    "colab": {
      "name": "list.ipynb",
      "provenance": [],
      "collapsed_sections": [],
      "authorship_tag": "ABX9TyMDhSfpNkjlShosSkLI9qyx",
      "include_colab_link": true
    },
    "kernelspec": {
      "name": "python3",
      "display_name": "Python 3"
    },
    "language_info": {
      "name": "python"
    }
  },
  "cells": [
    {
      "cell_type": "markdown",
      "metadata": {
        "id": "view-in-github",
        "colab_type": "text"
      },
      "source": [
        "<a href=\"https://colab.research.google.com/github/ynakayu/python_sample_code/blob/main/list.ipynb\" target=\"_parent\"><img src=\"https://colab.research.google.com/assets/colab-badge.svg\" alt=\"Open In Colab\"/></a>"
      ]
    },
    {
      "cell_type": "code",
      "execution_count": null,
      "metadata": {
        "colab": {
          "base_uri": "https://localhost:8080/"
        },
        "id": "yyRXpDW9PYP0",
        "outputId": "ac0d6930-d4d7-4cb6-86fa-c4b3d8c083fd"
      },
      "outputs": [
        {
          "output_type": "stream",
          "name": "stdout",
          "text": [
            "[90, 80, 100]\n",
            "90\n",
            "80\n",
            "100\n"
          ]
        }
      ],
      "source": [
        "# リストの基本的な使い方②\n",
        "# 例題）数学のテストの点数をリストにして、変数 scoresに入れる。\n",
        "# Liamさん 90点\n",
        "# Oliviaさん  80点\n",
        "# Emmaさん  100点\n",
        "\n",
        "scores = [90, 80, 100]\n",
        "print(scores)\n",
        "\n",
        "# members = ['liam', 'olivia', 'emma']\n",
        "# print(members)\n",
        "\n",
        "print(scores[0])\n",
        "print(scores[1])\n",
        "print(scores[2])\n",
        "# print(scores[3])"
      ]
    },
    {
      "cell_type": "code",
      "source": [
        "# リストの基本的な使い方②\n",
        "# LEN関数\n",
        "scores = [90, 80, 100]\n",
        "print(len(scores))\n",
        "# 合計 SUM関数\n",
        "# total = scores[0] + scores[1] + scores[2]\n",
        "# print(total)\n",
        "total = sum(scores)\n",
        "print(total)\n",
        "\n",
        "# 平均値\n",
        "average = total / len(scores)\n",
        "print(average)\n",
        "\n",
        "# \b負のインデックス\n",
        "print(scores[-1])\n",
        "print(scores[-2])\n",
        "print(scores[-3])\n",
        "# print(scores[-4])\n",
        "\n",
        "# スライス\n",
        "slice_samples = ['a', 'b', 'c', 'd', 'e']\n",
        "print(slice_samples[1:3])\n",
        "print(slice_samples[2:])\n",
        "print(slice_samples[:4])\n",
        "\n",
        "# リストの中にリスト\n",
        "matrix = [\n",
        "    [1, 2, 3],\n",
        "    [4, 5, 6],\n",
        "    [7, 8, 9]\n",
        "]\n",
        "print(matrix)\n",
        "\n",
        "# 複数のデータ型\n",
        "any_data_types = [1, 'a', 2, 3, [4, 5, 6]]\n",
        "print(any_data_types)\n",
        "\n",
        "# 空のリスト\n",
        "empty = []\n",
        "print(empty)"
      ],
      "metadata": {
        "colab": {
          "base_uri": "https://localhost:8080/"
        },
        "id": "Xp1e08DkSuwz",
        "outputId": "d16aa891-9d8e-422c-d9ac-465c7a672045"
      },
      "execution_count": null,
      "outputs": [
        {
          "output_type": "stream",
          "name": "stdout",
          "text": [
            "3\n",
            "270\n",
            "90.0\n",
            "100\n",
            "80\n",
            "90\n",
            "['b', 'c']\n",
            "['c', 'd', 'e']\n",
            "['a', 'b', 'c', 'd']\n",
            "[[1, 2, 3], [4, 5, 6], [7, 8, 9]]\n",
            "[1, 'a', 2, 3, [4, 5, 6]]\n",
            "[]\n"
          ]
        }
      ]
    },
    {
      "cell_type": "code",
      "source": [
        "# リストを操作しよう\n",
        "scores = [10, 20, 30, 40, 50]\n",
        "# 要素の追加\n",
        "scores.append(60)\n",
        "print(scores)\n",
        "\n",
        "# 指定した値の要素を削除\n",
        "scores.remove(60)\n",
        "print(scores)\n",
        "\n",
        "# 末尾の要素を削除\n",
        "scores.pop()\n",
        "print(scores)\n",
        "\n",
        "# インデックスを指定して削除\n",
        "scores.pop(2)\n",
        "print(scores)\n",
        "\n",
        "# すべての要素の削除\n",
        "scores.clear()\n",
        "print(scores)\n",
        "\n"
      ],
      "metadata": {
        "colab": {
          "base_uri": "https://localhost:8080/"
        },
        "id": "4WA6tIaRXDDr",
        "outputId": "262494b4-265d-48e4-cdb2-d7b812ebf28a"
      },
      "execution_count": null,
      "outputs": [
        {
          "output_type": "stream",
          "name": "stdout",
          "text": [
            "[10, 20, 30, 40, 50, 60]\n",
            "[10, 20, 30, 40, 50]\n",
            "[10, 20, 30, 40]\n",
            "[10, 20, 40]\n",
            "[]\n"
          ]
        }
      ]
    },
    {
      "cell_type": "code",
      "source": [
        "# 「おみくじプログラム」\n",
        "# プログラムを実行するたびに、\n",
        "# ランダムで、大凶', '凶', '末吉', '吉', '小吉', '中吉', '大吉'を表示\n",
        "\n",
        "import random\n",
        "omikuji_list = ['大凶', '凶', '末吉', '吉', '小吉', '中吉', '大吉']\n",
        "num = random.randint(0, 6)\n",
        "print(num)\n",
        "print(omikuji_list[num])"
      ],
      "metadata": {
        "colab": {
          "base_uri": "https://localhost:8080/"
        },
        "id": "ciKZiU79lyr5",
        "outputId": "b45db8c1-0da7-4dab-8fa2-234fd13b7ee4"
      },
      "execution_count": null,
      "outputs": [
        {
          "output_type": "stream",
          "name": "stdout",
          "text": [
            "1\n",
            "凶\n"
          ]
        }
      ]
    },
    {
      "cell_type": "code",
      "source": [
        "# 演習：配列を使ってサイコロを作成しよう\n",
        "import random\n",
        "dice_list = ['私の秘密', 'のろけ話', '夏の思い出', 'ありえない話', 'ショックな話', '若気の至り']\n",
        "num = random.randint(0, 5)\n",
        "print(dice_list[num])\n"
      ],
      "metadata": {
        "id": "G_cnLpeG3mpH",
        "outputId": "ad399bf7-22df-4388-879f-14ed62722c0e",
        "colab": {
          "base_uri": "https://localhost:8080/"
        }
      },
      "execution_count": 4,
      "outputs": [
        {
          "output_type": "stream",
          "name": "stdout",
          "text": [
            "のろけ話\n"
          ]
        }
      ]
    }
  ]
}