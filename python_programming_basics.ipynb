{
  "nbformat": 4,
  "nbformat_minor": 0,
  "metadata": {
    "colab": {
      "name": "python_programming_basics.ipynb",
      "provenance": [],
      "collapsed_sections": [],
      "authorship_tag": "ABX9TyM/G1HM3lrzZjnDjk8bwCgb",
      "include_colab_link": true
    },
    "kernelspec": {
      "name": "python3",
      "display_name": "Python 3"
    },
    "language_info": {
      "name": "python"
    }
  },
  "cells": [
    {
      "cell_type": "markdown",
      "metadata": {
        "id": "view-in-github",
        "colab_type": "text"
      },
      "source": [
        "<a href=\"https://colab.research.google.com/github/ynakayu/python_sample_code/blob/main/python_programming_basics.ipynb\" target=\"_parent\"><img src=\"https://colab.research.google.com/assets/colab-badge.svg\" alt=\"Open In Colab\"/></a>"
      ]
    },
    {
      "cell_type": "code",
      "execution_count": null,
      "metadata": {
        "colab": {
          "base_uri": "https://localhost:8080/"
        },
        "id": "8_qqgcP84UwC",
        "outputId": "3fafe86d-7df4-4505-9538-d7d3226699ee"
      },
      "outputs": [
        {
          "output_type": "stream",
          "name": "stdout",
          "text": [
            "Comment practice!\n"
          ]
        }
      ],
      "source": [
        "# 単一行のコメント\n",
        "# print('Comment practice!')\n",
        "# コメントアウト　/ （コメントイン）\n",
        "print('Comment practice!') # comment\n",
        "\n",
        "# 複数行のコメント\n",
        "# print('Comment practice!') \n",
        "# print('Comment practice!') \n",
        "# print('Comment practice!') "
      ]
    },
    {
      "cell_type": "code",
      "source": [
        "print(1)\n",
        "print(11)\n",
        "print(123)\n",
        "\n",
        "# リテラル\n",
        "#  数値リテラル\n",
        "#  文字列リテラル\n",
        "\n",
        "# 区切り文字\n",
        "print(1_000_000)"
      ],
      "metadata": {
        "colab": {
          "base_uri": "https://localhost:8080/"
        },
        "id": "-zOxqgB-Jg7c",
        "outputId": "94ef5b81-f59c-428d-9de1-29da15f4914e"
      },
      "execution_count": null,
      "outputs": [
        {
          "output_type": "stream",
          "name": "stdout",
          "text": [
            "1\n",
            "11\n",
            "123\n",
            "1000000\n"
          ]
        }
      ]
    },
    {
      "cell_type": "code",
      "source": [
        "# 数値の演算\n",
        "print(1 + 1) # 演算子 足し算\n",
        "print(2 - 1) # 引き算\n",
        "print(2 * 3) # 掛け算\n",
        "print(7 / 2) # 割り算\n",
        "print(7 // 2) # 割り算の商\n",
        "print(7 % 2) # 割り算の余り\n",
        "print(2 ** 3) # べき乗"
      ],
      "metadata": {
        "id": "llXCuYxlKsLe",
        "colab": {
          "base_uri": "https://localhost:8080/"
        },
        "outputId": "53186457-d1ae-4b1f-8a12-f87724420201"
      },
      "execution_count": null,
      "outputs": [
        {
          "output_type": "stream",
          "name": "stdout",
          "text": [
            "2\n",
            "1\n",
            "6\n",
            "3.5\n",
            "3\n",
            "1\n",
            "8\n"
          ]
        }
      ]
    },
    {
      "cell_type": "code",
      "source": [
        "# 演算子の優先順位\n",
        "print(1 + 2 * 3)\n",
        "\n",
        "# **\n",
        "# * / %\n",
        "# + -\n",
        "\n",
        "print((1 + 2) * 3)"
      ],
      "metadata": {
        "colab": {
          "base_uri": "https://localhost:8080/"
        },
        "id": "qBTHnV8EOxUR",
        "outputId": "470a9ccb-a1b5-4a53-8c40-de4a2e12346a"
      },
      "execution_count": null,
      "outputs": [
        {
          "output_type": "stream",
          "name": "stdout",
          "text": [
            "7\n",
            "9\n"
          ]
        }
      ]
    },
    {
      "cell_type": "code",
      "source": [
        "# エラーを自力で取り除けるようになろう\n",
        "print('Hello')"
      ],
      "metadata": {
        "colab": {
          "base_uri": "https://localhost:8080/"
        },
        "id": "3EpupvmXNY63",
        "outputId": "ea11b607-656f-401d-9256-2ad59b2430e8"
      },
      "execution_count": null,
      "outputs": [
        {
          "output_type": "stream",
          "name": "stdout",
          "text": [
            "Hello\n"
          ]
        }
      ]
    },
    {
      "cell_type": "code",
      "source": [
        "# 文字列を表示\n",
        "print('Hello, World!')\n",
        "print(\"Hello, World!\") # 文字列リテラル\n",
        "print('こんにちは！')\n",
        "print(\"I'm fine.\")\n",
        "print('\"Hello\", World!')"
      ],
      "metadata": {
        "colab": {
          "base_uri": "https://localhost:8080/"
        },
        "id": "elV9DzUMUK2o",
        "outputId": "e1dba7ec-08e6-4048-87c8-9a5ea3c1029d"
      },
      "execution_count": null,
      "outputs": [
        {
          "output_type": "stream",
          "name": "stdout",
          "text": [
            "Hello, World!\n",
            "Hello, World!\n",
            "こんにちは！\n",
            "I'm fine.\n",
            "\"Hello\", World!\n"
          ]
        }
      ]
    },
    {
      "cell_type": "code",
      "source": [
        "# エスケープシーケンス\n",
        "print('I\\'m fine.')\n",
        "print('\\\"Hello\\\", World!')\n",
        "print('Hello,\\nWorld!')\n",
        "print('\\\\')"
      ],
      "metadata": {
        "colab": {
          "base_uri": "https://localhost:8080/"
        },
        "id": "pGyj5nnya3Gg",
        "outputId": "8619cdd7-9aa9-44b2-d1c8-b61d5784092c"
      },
      "execution_count": null,
      "outputs": [
        {
          "output_type": "stream",
          "name": "stdout",
          "text": [
            "I'm fine.\n",
            "\"Hello\", World!\n",
            "Hello,\n",
            "World!\n",
            "\\\n"
          ]
        }
      ]
    },
    {
      "cell_type": "code",
      "source": [
        "# 文字列の操作\n",
        "print('1' + '1')\n",
        "print('*_' * 10)\n",
        "print(len('1234567'))"
      ],
      "metadata": {
        "colab": {
          "base_uri": "https://localhost:8080/"
        },
        "id": "cfOnEvtp8Je6",
        "outputId": "c6d6e56d-e8d4-4046-9882-f59d87231faf"
      },
      "execution_count": null,
      "outputs": [
        {
          "output_type": "stream",
          "name": "stdout",
          "text": [
            "11\n",
            "*_*_*_*_*_*_*_*_*_*_\n",
            "7\n"
          ]
        }
      ]
    },
    {
      "cell_type": "code",
      "source": [
        "# 変数\n",
        "# 例題) ネットショップで送料込みの商品代金を出力する。送料500円。\n",
        "# print(1000 + 500)\n",
        "# print(1300 + 500)\n",
        "# print(2000 + 500)\n",
        "# print(1500 + 500)\n",
        "# print(1100 + 500)\n",
        "\n",
        "delivery_fee = 500\n",
        "# print(delivery_fee)\n",
        "print(1000 + delivery_fee)\n",
        "print(1300 + delivery_fee)\n",
        "print(2000 + delivery_fee)\n",
        "print(1500 + delivery_fee)\n",
        "print(1100 + delivery_fee)\n",
        "print('---------------')\n",
        "delivery_fee = 250\n",
        "print(1000 + delivery_fee)\n",
        "print(1300 + delivery_fee)\n",
        "print(2000 + delivery_fee)\n",
        "print(1500 + delivery_fee)\n",
        "print(1100 + delivery_fee)\n",
        "\n",
        "name = 'Olivia'\n",
        "print(name)"
      ],
      "metadata": {
        "colab": {
          "base_uri": "https://localhost:8080/"
        },
        "id": "fNjNhPSv9vX5",
        "outputId": "5b85dccc-51f0-452f-c488-312cee1de3eb"
      },
      "execution_count": null,
      "outputs": [
        {
          "output_type": "stream",
          "name": "stdout",
          "text": [
            "1500\n",
            "1800\n",
            "2500\n",
            "2000\n",
            "1600\n",
            "---------------\n",
            "1250\n",
            "1550\n",
            "2250\n",
            "1750\n",
            "1350\n",
            "Olivia\n"
          ]
        }
      ]
    },
    {
      "cell_type": "code",
      "source": [
        "# 変数名のルール\n",
        "name = 'Olivia'\n",
        "delivery_fee = 500 # スネークケース\n",
        "# 予約語\n",
        "import keyword\n",
        "print(keyword.kwlist)\n",
        "# if = 1\n",
        "Name = 'Liam'\n",
        "name = 'Olivia'\n",
        "print(Name)\n",
        "print(name)\n",
        "# 1name = 'Liam'\n",
        "# 定数\n",
        "PI = 3.14\n",
        "TAX_RATE = 0.1\n",
        "print(PI)\n",
        "print(TAX_RATE)\n",
        "\n",
        "PI = 4\n",
        "print(PI)"
      ],
      "metadata": {
        "colab": {
          "base_uri": "https://localhost:8080/"
        },
        "id": "nuXDEN3rC9_c",
        "outputId": "3227899f-230e-41ce-81c2-c52495fa42dc"
      },
      "execution_count": null,
      "outputs": [
        {
          "output_type": "stream",
          "name": "stdout",
          "text": [
            "['False', 'None', 'True', 'and', 'as', 'assert', 'async', 'await', 'break', 'class', 'continue', 'def', 'del', 'elif', 'else', 'except', 'finally', 'for', 'from', 'global', 'if', 'import', 'in', 'is', 'lambda', 'nonlocal', 'not', 'or', 'pass', 'raise', 'return', 'try', 'while', 'with', 'yield']\n",
            "Liam\n",
            "Olivia\n",
            "3.14\n",
            "0.1\n",
            "4\n"
          ]
        }
      ]
    },
    {
      "cell_type": "code",
      "source": [
        "# 複合代入演算子を使おう\n",
        "age = 20\n",
        "# age = age + 2\n",
        "age += 2\n",
        "# print(age)\n",
        "\n",
        "x = 100\n",
        "# x -= 2\n",
        "# x *= 2\n",
        "x /= 2\n",
        "print(x)"
      ],
      "metadata": {
        "colab": {
          "base_uri": "https://localhost:8080/"
        },
        "id": "J2ASRCdrFl3r",
        "outputId": "414c3f2b-b4e4-4ee3-ffd1-ff95e428d26e"
      },
      "execution_count": null,
      "outputs": [
        {
          "output_type": "stream",
          "name": "stdout",
          "text": [
            "50.0\n"
          ]
        }
      ]
    },
    {
      "cell_type": "code",
      "source": [
        "# 変数のデータ型\n",
        "i = 123\n",
        "f = 3.14\n",
        "s = '123'\n",
        "b = True\n",
        "print(type(i))\n",
        "print(type(f))\n",
        "print(type(s))\n",
        "print(type(b))\n",
        "\n",
        "age = 20\n",
        "print(age)\n",
        "print(type(age))\n",
        "age = 'Taro Yamada'\n",
        "print(age)\n",
        "print(type(age))"
      ],
      "metadata": {
        "colab": {
          "base_uri": "https://localhost:8080/"
        },
        "id": "RPor1pSYHUnq",
        "outputId": "8dce697f-b20f-4901-bac4-ca51f7a807ca"
      },
      "execution_count": null,
      "outputs": [
        {
          "output_type": "stream",
          "name": "stdout",
          "text": [
            "<class 'int'>\n",
            "<class 'float'>\n",
            "<class 'str'>\n",
            "<class 'bool'>\n",
            "20\n",
            "<class 'int'>\n",
            "Taro Yamada\n",
            "<class 'str'>\n"
          ]
        }
      ]
    },
    {
      "cell_type": "code",
      "source": [
        "# キーボードから値を入力 input関数\n",
        "# 例題）ユーザーにお名前を聞いて、挨拶文を返す。\n",
        "name = input('Please enter your name.')\n",
        "print('Hello ' + name + ' san.')"
      ],
      "metadata": {
        "colab": {
          "base_uri": "https://localhost:8080/"
        },
        "id": "c_OYfoRQJ7ZY",
        "outputId": "2313d356-e68e-45ee-e75e-67dd15901165"
      },
      "execution_count": null,
      "outputs": [
        {
          "output_type": "stream",
          "name": "stdout",
          "text": [
            "Please enter your name.Olivia\n",
            "Hello Olivia san.\n"
          ]
        }
      ]
    },
    {
      "cell_type": "code",
      "source": [
        "# データ型を変換しよう\n",
        "# 例題）割り勘プログラム\n",
        "price = int(input('Please enter a price.'))\n",
        "print(price)\n",
        "count = int(input('Please enter the person count.'))\n",
        "print(count)\n",
        "print(type(price))\n",
        "print(type(count))\n",
        "print(price / count)\n",
        "\n",
        "print(float('3.14'))\n",
        "print(str(123))\n",
        "print(bool('True'))\n",
        "\n",
        "# print(int('abc'))"
      ],
      "metadata": {
        "colab": {
          "base_uri": "https://localhost:8080/",
          "height": 554
        },
        "id": "D6Rr-dFOK650",
        "outputId": "caa12baa-4b19-40ea-b18d-e6e6b64aec57"
      },
      "execution_count": null,
      "outputs": [
        {
          "output_type": "error",
          "ename": "KeyboardInterrupt",
          "evalue": "ignored",
          "traceback": [
            "\u001b[0;31m---------------------------------------------------------------------------\u001b[0m",
            "\u001b[0;31mKeyboardInterrupt\u001b[0m                         Traceback (most recent call last)",
            "\u001b[0;32m/usr/local/lib/python3.7/dist-packages/ipykernel/kernelbase.py\u001b[0m in \u001b[0;36m_input_request\u001b[0;34m(self, prompt, ident, parent, password)\u001b[0m\n\u001b[1;32m    728\u001b[0m             \u001b[0;32mtry\u001b[0m\u001b[0;34m:\u001b[0m\u001b[0;34m\u001b[0m\u001b[0;34m\u001b[0m\u001b[0m\n\u001b[0;32m--> 729\u001b[0;31m                 \u001b[0mident\u001b[0m\u001b[0;34m,\u001b[0m \u001b[0mreply\u001b[0m \u001b[0;34m=\u001b[0m \u001b[0mself\u001b[0m\u001b[0;34m.\u001b[0m\u001b[0msession\u001b[0m\u001b[0;34m.\u001b[0m\u001b[0mrecv\u001b[0m\u001b[0;34m(\u001b[0m\u001b[0mself\u001b[0m\u001b[0;34m.\u001b[0m\u001b[0mstdin_socket\u001b[0m\u001b[0;34m,\u001b[0m \u001b[0;36m0\u001b[0m\u001b[0;34m)\u001b[0m\u001b[0;34m\u001b[0m\u001b[0;34m\u001b[0m\u001b[0m\n\u001b[0m\u001b[1;32m    730\u001b[0m             \u001b[0;32mexcept\u001b[0m \u001b[0mException\u001b[0m\u001b[0;34m:\u001b[0m\u001b[0;34m\u001b[0m\u001b[0;34m\u001b[0m\u001b[0m\n",
            "\u001b[0;32m/usr/local/lib/python3.7/dist-packages/jupyter_client/session.py\u001b[0m in \u001b[0;36mrecv\u001b[0;34m(self, socket, mode, content, copy)\u001b[0m\n\u001b[1;32m    802\u001b[0m         \u001b[0;32mtry\u001b[0m\u001b[0;34m:\u001b[0m\u001b[0;34m\u001b[0m\u001b[0;34m\u001b[0m\u001b[0m\n\u001b[0;32m--> 803\u001b[0;31m             \u001b[0mmsg_list\u001b[0m \u001b[0;34m=\u001b[0m \u001b[0msocket\u001b[0m\u001b[0;34m.\u001b[0m\u001b[0mrecv_multipart\u001b[0m\u001b[0;34m(\u001b[0m\u001b[0mmode\u001b[0m\u001b[0;34m,\u001b[0m \u001b[0mcopy\u001b[0m\u001b[0;34m=\u001b[0m\u001b[0mcopy\u001b[0m\u001b[0;34m)\u001b[0m\u001b[0;34m\u001b[0m\u001b[0;34m\u001b[0m\u001b[0m\n\u001b[0m\u001b[1;32m    804\u001b[0m         \u001b[0;32mexcept\u001b[0m \u001b[0mzmq\u001b[0m\u001b[0;34m.\u001b[0m\u001b[0mZMQError\u001b[0m \u001b[0;32mas\u001b[0m \u001b[0me\u001b[0m\u001b[0;34m:\u001b[0m\u001b[0;34m\u001b[0m\u001b[0;34m\u001b[0m\u001b[0m\n",
            "\u001b[0;32m/usr/local/lib/python3.7/dist-packages/zmq/sugar/socket.py\u001b[0m in \u001b[0;36mrecv_multipart\u001b[0;34m(self, flags, copy, track)\u001b[0m\n\u001b[1;32m    624\u001b[0m         \"\"\"\n\u001b[0;32m--> 625\u001b[0;31m         \u001b[0mparts\u001b[0m \u001b[0;34m=\u001b[0m \u001b[0;34m[\u001b[0m\u001b[0mself\u001b[0m\u001b[0;34m.\u001b[0m\u001b[0mrecv\u001b[0m\u001b[0;34m(\u001b[0m\u001b[0mflags\u001b[0m\u001b[0;34m,\u001b[0m \u001b[0mcopy\u001b[0m\u001b[0;34m=\u001b[0m\u001b[0mcopy\u001b[0m\u001b[0;34m,\u001b[0m \u001b[0mtrack\u001b[0m\u001b[0;34m=\u001b[0m\u001b[0mtrack\u001b[0m\u001b[0;34m)\u001b[0m\u001b[0;34m]\u001b[0m\u001b[0;34m\u001b[0m\u001b[0;34m\u001b[0m\u001b[0m\n\u001b[0m\u001b[1;32m    626\u001b[0m         \u001b[0;31m# have first part already, only loop while more to receive\u001b[0m\u001b[0;34m\u001b[0m\u001b[0;34m\u001b[0m\u001b[0;34m\u001b[0m\u001b[0m\n",
            "\u001b[0;32mzmq/backend/cython/socket.pyx\u001b[0m in \u001b[0;36mzmq.backend.cython.socket.Socket.recv\u001b[0;34m()\u001b[0m\n",
            "\u001b[0;32mzmq/backend/cython/socket.pyx\u001b[0m in \u001b[0;36mzmq.backend.cython.socket.Socket.recv\u001b[0;34m()\u001b[0m\n",
            "\u001b[0;32mzmq/backend/cython/socket.pyx\u001b[0m in \u001b[0;36mzmq.backend.cython.socket._recv_copy\u001b[0;34m()\u001b[0m\n",
            "\u001b[0;32m/usr/local/lib/python3.7/dist-packages/zmq/backend/cython/checkrc.pxd\u001b[0m in \u001b[0;36mzmq.backend.cython.checkrc._check_rc\u001b[0;34m()\u001b[0m\n",
            "\u001b[0;31mKeyboardInterrupt\u001b[0m: ",
            "\nDuring handling of the above exception, another exception occurred:\n",
            "\u001b[0;31mKeyboardInterrupt\u001b[0m                         Traceback (most recent call last)",
            "\u001b[0;32m<ipython-input-47-008db05045dd>\u001b[0m in \u001b[0;36m<module>\u001b[0;34m()\u001b[0m\n\u001b[1;32m      1\u001b[0m \u001b[0;31m# データ型を変換しよう\u001b[0m\u001b[0;34m\u001b[0m\u001b[0;34m\u001b[0m\u001b[0;34m\u001b[0m\u001b[0m\n\u001b[1;32m      2\u001b[0m \u001b[0;31m# 例題）割り勘プログラム\u001b[0m\u001b[0;34m\u001b[0m\u001b[0;34m\u001b[0m\u001b[0;34m\u001b[0m\u001b[0m\n\u001b[0;32m----> 3\u001b[0;31m \u001b[0mprice\u001b[0m \u001b[0;34m=\u001b[0m \u001b[0mint\u001b[0m\u001b[0;34m(\u001b[0m\u001b[0minput\u001b[0m\u001b[0;34m(\u001b[0m\u001b[0;34m'Please enter a price.'\u001b[0m\u001b[0;34m)\u001b[0m\u001b[0;34m)\u001b[0m\u001b[0;34m\u001b[0m\u001b[0;34m\u001b[0m\u001b[0m\n\u001b[0m\u001b[1;32m      4\u001b[0m \u001b[0mprint\u001b[0m\u001b[0;34m(\u001b[0m\u001b[0mprice\u001b[0m\u001b[0;34m)\u001b[0m\u001b[0;34m\u001b[0m\u001b[0;34m\u001b[0m\u001b[0m\n\u001b[1;32m      5\u001b[0m \u001b[0mcount\u001b[0m \u001b[0;34m=\u001b[0m \u001b[0mint\u001b[0m\u001b[0;34m(\u001b[0m\u001b[0minput\u001b[0m\u001b[0;34m(\u001b[0m\u001b[0;34m'Please enter the person count.'\u001b[0m\u001b[0;34m)\u001b[0m\u001b[0;34m)\u001b[0m\u001b[0;34m\u001b[0m\u001b[0;34m\u001b[0m\u001b[0m\n",
            "\u001b[0;32m/usr/local/lib/python3.7/dist-packages/ipykernel/kernelbase.py\u001b[0m in \u001b[0;36mraw_input\u001b[0;34m(self, prompt)\u001b[0m\n\u001b[1;32m    702\u001b[0m             \u001b[0mself\u001b[0m\u001b[0;34m.\u001b[0m\u001b[0m_parent_ident\u001b[0m\u001b[0;34m,\u001b[0m\u001b[0;34m\u001b[0m\u001b[0;34m\u001b[0m\u001b[0m\n\u001b[1;32m    703\u001b[0m             \u001b[0mself\u001b[0m\u001b[0;34m.\u001b[0m\u001b[0m_parent_header\u001b[0m\u001b[0;34m,\u001b[0m\u001b[0;34m\u001b[0m\u001b[0;34m\u001b[0m\u001b[0m\n\u001b[0;32m--> 704\u001b[0;31m             \u001b[0mpassword\u001b[0m\u001b[0;34m=\u001b[0m\u001b[0;32mFalse\u001b[0m\u001b[0;34m,\u001b[0m\u001b[0;34m\u001b[0m\u001b[0;34m\u001b[0m\u001b[0m\n\u001b[0m\u001b[1;32m    705\u001b[0m         )\n\u001b[1;32m    706\u001b[0m \u001b[0;34m\u001b[0m\u001b[0m\n",
            "\u001b[0;32m/usr/local/lib/python3.7/dist-packages/ipykernel/kernelbase.py\u001b[0m in \u001b[0;36m_input_request\u001b[0;34m(self, prompt, ident, parent, password)\u001b[0m\n\u001b[1;32m    732\u001b[0m             \u001b[0;32mexcept\u001b[0m \u001b[0mKeyboardInterrupt\u001b[0m\u001b[0;34m:\u001b[0m\u001b[0;34m\u001b[0m\u001b[0;34m\u001b[0m\u001b[0m\n\u001b[1;32m    733\u001b[0m                 \u001b[0;31m# re-raise KeyboardInterrupt, to truncate traceback\u001b[0m\u001b[0;34m\u001b[0m\u001b[0;34m\u001b[0m\u001b[0;34m\u001b[0m\u001b[0m\n\u001b[0;32m--> 734\u001b[0;31m                 \u001b[0;32mraise\u001b[0m \u001b[0mKeyboardInterrupt\u001b[0m\u001b[0;34m\u001b[0m\u001b[0;34m\u001b[0m\u001b[0m\n\u001b[0m\u001b[1;32m    735\u001b[0m             \u001b[0;32melse\u001b[0m\u001b[0;34m:\u001b[0m\u001b[0;34m\u001b[0m\u001b[0;34m\u001b[0m\u001b[0m\n\u001b[1;32m    736\u001b[0m                 \u001b[0;32mbreak\u001b[0m\u001b[0;34m\u001b[0m\u001b[0;34m\u001b[0m\u001b[0m\n",
            "\u001b[0;31mKeyboardInterrupt\u001b[0m: "
          ]
        }
      ]
    },
    {
      "cell_type": "code",
      "source": [
        "# 文字列中に値を埋め込む\n",
        "# 例題)自己紹介プログラム\n",
        "name = 'Olivia'\n",
        "hometown = 'Tokyo'\n",
        "print('My name is ' + name + '. ' + 'I am from ' + hometown + '.')\n",
        "print('My name is {}. I am from {}.'.format(name, hometown))\n",
        "\n",
        "# フォーマット済み文字列リテラル(f文字列, f-strings)\n",
        "print(f'My name is {name}. I am from {hometown}.')"
      ],
      "metadata": {
        "colab": {
          "base_uri": "https://localhost:8080/"
        },
        "id": "stEDCW-DN9qx",
        "outputId": "4825ef24-24fb-4bcc-9cae-32df50804c8e"
      },
      "execution_count": null,
      "outputs": [
        {
          "output_type": "stream",
          "name": "stdout",
          "text": [
            "My name is Olivia. I am from Tokyo.\n",
            "My name is Olivia. I am from Tokyo.\n",
            "My name is Olivia. I am from Tokyo.\n"
          ]
        }
      ]
    }
  ]
}